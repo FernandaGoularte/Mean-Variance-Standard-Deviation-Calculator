{
 "cells": [
  {
   "cell_type": "code",
   "execution_count": 1,
   "id": "340b7b78",
   "metadata": {},
   "outputs": [],
   "source": [
    "import numpy as np"
   ]
  },
  {
   "cell_type": "code",
   "execution_count": 2,
   "id": "96631b9a",
   "metadata": {},
   "outputs": [],
   "source": [
    "def calculate(list):\n",
    "    try :\n",
    "        \n",
    "        len(list) == 9\n",
    "        \n",
    "        #creating a list of lists\n",
    "        chunk_size = 3\n",
    "        list2 = [list[i:i + chunk_size] for i in range(0, len(list), chunk_size)]\n",
    "\n",
    "        #creating an array from the list of lists\n",
    "        arr = np.array(list2)\n",
    "        \n",
    "        #calculation and changing the arrays to lists\n",
    "        a = np.mean(arr, axis = 0)\n",
    "        a = a.tolist()\n",
    "        \n",
    "        b = np.mean(arr, axis = 1)\n",
    "        b = b.tolist()\n",
    "        \n",
    "        c = np.var(arr, axis = 0)\n",
    "        c = c.tolist()\n",
    "        \n",
    "        d = np.var(arr, axis = 1)\n",
    "        d = d.tolist()\n",
    "        \n",
    "        e = np.std(arr, axis = 0)\n",
    "        e = e.tolist()\n",
    "        \n",
    "        f = np.std(arr, axis = 1)\n",
    "        f = f.tolist()\n",
    "        \n",
    "        g = np.max(arr, axis = 0)\n",
    "        g = g.tolist()\n",
    "        \n",
    "        h = np.max(arr, axis = 1)\n",
    "        h = h.tolist()\n",
    "        \n",
    "        i = np.min(arr, axis = 0)\n",
    "        i = i.tolist()\n",
    "        \n",
    "        j = np.min(arr, axis = 1)\n",
    "        j = j.tolist()\n",
    "        \n",
    "        k = np.sum(arr, axis = 0)\n",
    "        k = k.tolist()\n",
    "        \n",
    "        l = np.sum(arr, axis = 1)\n",
    "        l = l.tolist()\n",
    "        \n",
    "        #crreating the values for the dictionary\n",
    "        mean = [a, b,np.mean(arr)]\n",
    "        var = [c, d, np.var(arr)]\n",
    "        std = [e, f, np.std(arr)]\n",
    "        max = [g, h, np.max(arr)]\n",
    "        min = [i, j, np.min(arr)]\n",
    "        sum = [k, l, np.sum(arr)]\n",
    "        \n",
    "        #creating the dictionary\n",
    "        calculations = {'mean' : mean, 'variance' : var, 'standard deviation' : std, 'max' : max, 'min' : min, 'sum' : sum}\n",
    "    \n",
    "        return calculations\n",
    "            \n",
    "    except ValueError:\n",
    "        print('List must contain nine numbers.')"
   ]
  },
  {
   "cell_type": "code",
   "execution_count": 3,
   "id": "a0317864",
   "metadata": {},
   "outputs": [
    {
     "name": "stdout",
     "output_type": "stream",
     "text": [
      "List must contain nine numbers.\n"
     ]
    },
    {
     "name": "stderr",
     "output_type": "stream",
     "text": [
      "<ipython-input-2-1ca6ec8d75e8>:11: VisibleDeprecationWarning: Creating an ndarray from ragged nested sequences (which is a list-or-tuple of lists-or-tuples-or ndarrays with different lengths or shapes) is deprecated. If you meant to do this, you must specify 'dtype=object' when creating the ndarray.\n",
      "  arr = np.array(list2)\n"
     ]
    }
   ],
   "source": [
    "calculate([0,1,2,3,4,5,6,7])"
   ]
  },
  {
   "cell_type": "code",
   "execution_count": 4,
   "id": "fa56ecf8",
   "metadata": {},
   "outputs": [
    {
     "data": {
      "text/plain": [
       "{'mean': [[3.0, 4.0, 5.0], [1.0, 4.0, 7.0], 4.0],\n",
       " 'variance': [[6.0, 6.0, 6.0],\n",
       "  [0.6666666666666666, 0.6666666666666666, 0.6666666666666666],\n",
       "  6.666666666666667],\n",
       " 'standard deviation': [[2.449489742783178,\n",
       "   2.449489742783178,\n",
       "   2.449489742783178],\n",
       "  [0.816496580927726, 0.816496580927726, 0.816496580927726],\n",
       "  2.581988897471611],\n",
       " 'max': [[6, 7, 8], [2, 5, 8], 8],\n",
       " 'min': [[0, 1, 2], [0, 3, 6], 0],\n",
       " 'sum': [[9, 12, 15], [3, 12, 21], 36]}"
      ]
     },
     "execution_count": 4,
     "metadata": {},
     "output_type": "execute_result"
    }
   ],
   "source": [
    "calculate([0,1,2,3,4,5,6,7,8])"
   ]
  },
  {
   "cell_type": "code",
   "execution_count": null,
   "id": "f24a5719",
   "metadata": {},
   "outputs": [],
   "source": []
  }
 ],
 "metadata": {
  "kernelspec": {
   "display_name": "Python 3",
   "language": "python",
   "name": "python3"
  },
  "language_info": {
   "codemirror_mode": {
    "name": "ipython",
    "version": 3
   },
   "file_extension": ".py",
   "mimetype": "text/x-python",
   "name": "python",
   "nbconvert_exporter": "python",
   "pygments_lexer": "ipython3",
   "version": "3.8.8"
  }
 },
 "nbformat": 4,
 "nbformat_minor": 5
}
